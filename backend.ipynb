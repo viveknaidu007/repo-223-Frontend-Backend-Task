{
 "cells": [
  {
   "cell_type": "markdown",
   "metadata": {},
   "source": [
    "# steps for Environment"
   ]
  },
  {
   "cell_type": "code",
   "execution_count": null,
   "metadata": {
    "vscode": {
     "languageId": "plaintext"
    }
   },
   "outputs": [],
   "source": [
    "# i used conda environment:\n",
    "\n",
    "conda create --name task python=3.10.14\n",
    "conda activate task\n",
    "pip install -r requirements.txt"
   ]
  },
  {
   "cell_type": "code",
   "execution_count": null,
   "metadata": {
    "vscode": {
     "languageId": "plaintext"
    }
   },
   "outputs": [],
   "source": [
    "We need two serializers, one for Post and another for Comment, to format the data when returning the API response."
   ]
  },
  {
   "cell_type": "code",
   "execution_count": null,
   "metadata": {
    "vscode": {
     "languageId": "plaintext"
    }
   },
   "outputs": [],
   "source": [
    "# Changes i have done:\n",
    "\n",
    "serializers.py\n",
    "views.py\n",
    "urls.py"
   ]
  },
  {
   "cell_type": "code",
   "execution_count": null,
   "metadata": {
    "vscode": {
     "languageId": "plaintext"
    }
   },
   "outputs": [],
   "source": [
    "serializers.py\n",
    "\n",
    "In the PostSerializer, we include:\n",
    "\n",
    "    The text, timestamp, and username of the post.\n",
    "    A comment_count field to indicate how many comments the post has.\n",
    "    The related comments, limited to the top 3 sorted by timestamp."
   ]
  },
  {
   "cell_type": "code",
   "execution_count": null,
   "metadata": {
    "vscode": {
     "languageId": "plaintext"
    }
   },
   "outputs": [],
   "source": []
  },
  {
   "cell_type": "markdown",
   "metadata": {},
   "source": [
    "Follow-up Question: Fetching 3 Random Comments\n",
    "\n",
    "To fetch 3 random comments for a given post instead of sorting by timestamp, you can modify the Prefetch for the comments in the PostListView:"
   ]
  },
  {
   "cell_type": "code",
   "execution_count": null,
   "metadata": {},
   "outputs": [],
   "source": [
    "from django.db.models import Prefetch\n",
    "import random\n",
    "\n",
    "# instead of sorting by timestamp\n",
    "posts = Post.objects.prefetch_related(\n",
    "    Prefetch('comments', queryset=Post.comments.all().order_by('?')[:3])\n",
    ").order_by('-timestamp')\n",
    "\n",
    "\n",
    "n this approach:\n",
    "\n",
    "    The order_by('?') sorts the comments randomly.\n",
    "    The [:3] limits the selection to 3 random comments."
   ]
  },
  {
   "cell_type": "code",
   "execution_count": null,
   "metadata": {
    "vscode": {
     "languageId": "plaintext"
    }
   },
   "outputs": [],
   "source": [
    "python manage.py migrate\n",
    "python manage.py runserver\n",
    "\n",
    "#test the /posts/ endpoint."
   ]
  },
  {
   "cell_type": "code",
   "execution_count": null,
   "metadata": {
    "vscode": {
     "languageId": "plaintext"
    }
   },
   "outputs": [],
   "source": [
    "GET /posts/\n"
   ]
  },
  {
   "cell_type": "code",
   "execution_count": null,
   "metadata": {
    "vscode": {
     "languageId": "plaintext"
    }
   },
   "outputs": [],
   "source": [
    "[\n",
    "  {\n",
    "    \"text\": \"Post content here\",\n",
    "    \"timestamp\": \"2024-12-28T12:00:00Z\",\n",
    "    \"username\": \"author1\",\n",
    "    \"comment_count\": 5,\n",
    "    \"comments\": [\n",
    "      {\n",
    "        \"text\": \"Comment 1\",\n",
    "        \"timestamp\": \"2024-12-28T13:00:00Z\",\n",
    "        \"username\": \"commenter1\"\n",
    "      },\n",
    "      {\n",
    "        \"text\": \"Comment 2\",\n",
    "        \"timestamp\": \"2024-12-28T12:30:00Z\",\n",
    "        \"username\": \"commenter2\"\n",
    "      },\n",
    "      {\n",
    "        \"text\": \"Comment 3\",\n",
    "        \"timestamp\": \"2024-12-28T12:15:00Z\",\n",
    "        \"username\": \"commenter3\"\n",
    "      }\n",
    "    ]\n",
    "  }\n",
    "]\n"
   ]
  }
 ],
 "metadata": {
  "language_info": {
   "name": "python"
  }
 },
 "nbformat": 4,
 "nbformat_minor": 2
}
